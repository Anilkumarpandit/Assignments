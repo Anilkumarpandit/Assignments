{
 "cells": [
  {
   "cell_type": "code",
   "execution_count": null,
   "id": "1082cdb2-4bb8-416f-9150-643677413d3e",
   "metadata": {},
   "outputs": [],
   "source": [
    "Answer 1:\n",
    "    Flask is a lightweight framework because it is independent of extenal liberies and it gives a quick start for web\n",
    "    development having complex applications.\n",
    "    \n",
    "    The advantages of Flask framework are:\n",
    "    * It is a lightweight framework that offers hassle-free development.\n",
    "    *Provide flexibility to the developer to experiment with their modules or architecture.\n",
    "    *It is sutable for small projects.\n",
    "    *Offers a built-in development server and fast debugger.\n",
    "    *Easily scalable for the applications.\n",
    "    *Support for secure cookies.\n",
    " "
   ]
  },
  {
   "cell_type": "code",
   "execution_count": null,
   "id": "ad2b2ed4-0ee5-4628-bce9-f757fc36c1c3",
   "metadata": {},
   "outputs": [],
   "source": [
    "Answer 2:\n",
    "    from flask import Flask\n",
    "\n",
    "    app = Flask(__name__)\n",
    "\n",
    "    @app.route(\"/\")\n",
    "    def hello_world():\n",
    "        return \"<h1>Hello World!!</h1>\"\n",
    "\n",
    "    if __name__==\"__main__\":\n",
    "        app.run(host=\"0.0.0.0\")\n",
    "\n",
    "\n",
    "OUTPUT Screenshot:\n",
    "\n",
    "https://white-pilot-ukwud.pwskills.app/files/work/Screenshot.png?_xsrf=2%7C10656b10%7C2584867d09cee85c68a1b956e2ffeeaf%7C1684040688"
   ]
  },
  {
   "cell_type": "code",
   "execution_count": null,
   "id": "f53a38fb-a428-438c-88cf-523f81feb26e",
   "metadata": {},
   "outputs": [],
   "source": [
    "Answer 3:\n",
    "    App routing is the technique used to map the specific URL with the associated function intended to perform some task.\n",
    "    The Latest Web frameworks use the routing technique to help users remember application URLs. It is helpful to access \n",
    "    the desired page directly without navigating from the home page."
   ]
  },
  {
   "cell_type": "code",
   "execution_count": null,
   "id": "f3ea2c64-85c1-43c3-a795-74d0cabdaffd",
   "metadata": {},
   "outputs": [],
   "source": [
    "Answer 4:\n",
    "    \n",
    "    from flask import Flask\n",
    "\n",
    "    app = Flask(__name__)\n",
    "\n",
    "    @app.route(\"/welcome\")\n",
    "    def welocome():\n",
    "        return \"<h1>Welcome to ABC Corporation</h1>\"\n",
    "\n",
    "    @app.route(\"/\")\n",
    "    def welcome1():\n",
    "        return  \"<h2>Company Name: ABC Corporation</h2>\"\"<h2>Location: India</h2>\"\"<h2>Contact Details: 999-999-9999</h2>\"\n",
    "\n",
    "    if __name__==\"__main__\":\n",
    "        app.run(host=\"0.0.0.0\")\n",
    "\n",
    "    \n",
    "    \n",
    "OUTPUT Screenshot:\n",
    "\n",
    "https://white-pilot-ukwud.pwskills.app/files/work/Screenshot%20(7).png?_xsrf=2%7C10656b10%7C2584867d09cee85c68a1b956e2ffeeaf%7C1684040688\n",
    "    \n",
    "https://white-pilot-ukwud.pwskills.app/files/work/Screenshot%20(8).png?_xsrf=2%7C10656b10%7C2584867d09cee85c68a1b956e2ffeeaf%7C1684040688 "
   ]
  },
  {
   "cell_type": "code",
   "execution_count": null,
   "id": "f7173b9a-e9d6-481c-b75e-00d84dc975de",
   "metadata": {},
   "outputs": [],
   "source": [
    "Answer 5:\n",
    "    \n",
    "    The url_for() function is used to build a URL to the specific function dynamically. The first argument is the name of the \n",
    "    specified function, and then we can pass any number of keywords as arguments corresponding to the variable part of the URL.\n",
    "\n",
    "\n",
    "    from flask import Flask, redirect, url_for\n",
    "    app = Flask(__name__)\n",
    "\n",
    "    @app.route('/admin')\n",
    "    def hello_admin():\n",
    "       return 'Hello Admin'\n",
    "\n",
    "    @app.route('/guest/<guest>')\n",
    "    def hello_guest(guest):\n",
    "       return 'Hello %s as Guest' % guest\n",
    "\n",
    "    @app.route('/user/<name>')\n",
    "    def hello_user(name):\n",
    "       if name =='admin':\n",
    "          return redirect(url_for('hello_admin'))\n",
    "       else:\n",
    "          return redirect(url_for('hello_guest',guest = name))\n",
    "\n",
    "    if __name__ == '__main__':\n",
    "       app.run(debug = True)\n",
    "    \n",
    "    "
   ]
  }
 ],
 "metadata": {
  "kernelspec": {
   "display_name": "Python 3 (ipykernel)",
   "language": "python",
   "name": "python3"
  },
  "language_info": {
   "codemirror_mode": {
    "name": "ipython",
    "version": 3
   },
   "file_extension": ".py",
   "mimetype": "text/x-python",
   "name": "python",
   "nbconvert_exporter": "python",
   "pygments_lexer": "ipython3",
   "version": "3.10.8"
  }
 },
 "nbformat": 4,
 "nbformat_minor": 5
}
