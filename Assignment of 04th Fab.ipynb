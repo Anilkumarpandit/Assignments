{
 "cells": [
  {
   "cell_type": "code",
   "execution_count": null,
   "id": "a2076107-e0bc-4c8d-b956-0b3e0c95d850",
   "metadata": {},
   "outputs": [],
   "source": [
    "Answer 1:\n",
    "    l=[('Sachin Tendulkar',34357),('Ricky Ponting',27483),('Jack Kallis',25534),('Virat Kolhi',24936)]\n",
    "    print(\"Original List of Tuples: \")\n",
    "    print(l)\n",
    "    list.sort(key=lambda x:x[1])\n",
    "    print(\"\\nSorting the List of Tuples: \")\n",
    "    print(l)\n",
    "    \n",
    "    \n",
    "Answer 2:\n",
    "    l=[1,2,3,4,5,6,7,8,9,10]\n",
    "    l1=list(map(lambda x:x**2,l))\n",
    "    print(l1)\n",
    "    \n",
    "    \n",
    "Answer 3:\n",
    "    l=[1,2,3,4,5,6,7,8,9,10]\n",
    "    print(\"Original List of Integers: \")\n",
    "    print(l)\n",
    "    print(\"\\nTuple of String: \")\n",
    "    s=tuple(map(lambda x:str(x),l))\n",
    "    print(s)\n",
    "    \n",
    "    \n",
    "Answer 4:\n",
    "    from functools import reduce\n",
    "    l=[1,2,3,4,5,6,7,8,9,10,11,12,13,14,15,16,17,18,19,20,21,22,23,24,25]\n",
    "    product=reduce((lambda x,y:x*y),l)\n",
    "    print(product)\n",
    "    \n",
    "    \n",
    "Answer 5:\n",
    "    list1=[2,3,6,9,27,60,90,120,55,46]\n",
    "    def filter_num(x):\n",
    "        return x%2==0 and x%3==0\n",
    "    list2=list(filter(filter_num,list1))\n",
    "    print(list2)\n",
    "    \n",
    "    \n",
    "Answer 6:\n",
    "    list1=['python','php','aba','radar','level']\n",
    "    print(\"Original List: \")\n",
    "    print(list1)\n",
    "    palindromes=list(filter(lambda x:x==\"\".join(reversed(x)),list1))\n",
    "    print(\"\\nList of Palindromes: \")\n",
    "    "
   ]
  }
 ],
 "metadata": {
  "kernelspec": {
   "display_name": "Python 3 (ipykernel)",
   "language": "python",
   "name": "python3"
  },
  "language_info": {
   "codemirror_mode": {
    "name": "ipython",
    "version": 3
   },
   "file_extension": ".py",
   "mimetype": "text/x-python",
   "name": "python",
   "nbconvert_exporter": "python",
   "pygments_lexer": "ipython3",
   "version": "3.10.8"
  }
 },
 "nbformat": 4,
 "nbformat_minor": 5
}
