{
 "cells": [
  {
   "cell_type": "raw",
   "id": "4fd49618-1cff-403d-9af1-3ad8d838b98d",
   "metadata": {},
   "source": [
    "Answer 1:\n",
    "    \n",
    "    APIs are mechanisms that enable two software components to communicate with each other using a set of definitions and \n",
    "    protocols. For example, the weather bureau's software system contains daily weather data. The weather app on your phone \n",
    "    “talks” to this system via APIs and shows you daily weather updates on your phone."
   ]
  },
  {
   "cell_type": "code",
   "execution_count": null,
   "id": "757880f9-cc01-4180-a74c-f44bd5aebb51",
   "metadata": {},
   "outputs": [],
   "source": [
    "Answer 2:\n",
    "    \n",
    "Advantages:-\n",
    "    *Increased Interoperability: API solutions enable different software systems to communicate with each other, regardless of \n",
    "                                their programming language or platform. This enhances the interoperability between systems, \n",
    "                                allowing for the exchange of data and functionality.\n",
    "            \n",
    "    *Improved Efficiency: API driven infrastructures enable developers to reuse code and functionality from existing software \n",
    "                            systems, saving time and reducing the amount of code that needs to be written from scratch.\n",
    "        \n",
    "    *Better User Experience: APIs can enable third-party developers to create applications that integrate with existing \n",
    "                            software systems, providing a better user experience and increased functionality.\n",
    "        \n",
    "    *Increased Flexibility: APIs provide developers with greater flexibility, enabling them to choose the best programming \n",
    "                            languages and frameworks for their needs.\n",
    "        \n",
    "    *New Revenue Streams: APIs can enable companies to create new revenue streams by providing third-party developers with\n",
    "                            access to their software systems.\n",
    "\n",
    "Disadvantages:\n",
    "    *Security Concerns: API infrastructures can be vulnerable to security breaches, such as SQL injection attacks and \n",
    "                        cross-site scripting (XSS) attacks, making it crucial to implement security measures to protect  against\n",
    "                        these threats.\n",
    "            \n",
    "    *Complexity: APIs can be complex, requiring a significant amount of development effort to implement and maintain.\n",
    "    \n",
    "    *Compatibility Issues: APIs can have compatibility issues between different versions of the same software system or\n",
    "                            between different systems, which can lead to errors and system failures.\n",
    "        \n",
    "    *Dependency on Third-Party Developers: APIs rely on third-party developers to create applications that integrate with the \n",
    "                                            software system. This can create dependencies that are outside of the control of \n",
    "                                            the company that owns the software system.\n",
    "            \n",
    "    *Governance and Management: APIs require proper governance and management to ensure they are being used correctly and \n",
    "                                consistently across different applications and systems."
   ]
  },
  {
   "cell_type": "raw",
   "id": "8e5e59a0-7107-4cc3-9239-7a475961f0e1",
   "metadata": {},
   "source": [
    "Answer 3:\n",
    "    \n",
    "    API stands for Application Programming Interface. A Web API is an application programming interface for the Web. A Browser\n",
    "    API can extend the functionality of a web browser. A Server API can extend the functionality of a web server.\n",
    "    \n",
    "    Both APIs and web services are technologies that enable the transfer of data between separate software applications.\n",
    "    API is an interface that exposes an application's data to outside software, whereas web applications are one type of API \n",
    "    with stricter requirements. These requirements include network communication, SOAP as the primary protocol, and less \n",
    "    accessibility for the public. "
   ]
  },
  {
   "cell_type": "code",
   "execution_count": null,
   "id": "e5911b2e-b732-4f9a-a175-7fd691edc7a4",
   "metadata": {},
   "outputs": [],
   "source": [
    "Answer 4:\n",
    "    \n",
    "    REST (Representational State Transfer) is an architectural approach for communication purposes often used in various web \n",
    "    services development. It is a stateless client-server model. Web services that are defined by the concept of REST are \n",
    "    RESTful web services. When a client makes a request via RESTful API, it transfers the representation of the state of the \n",
    "    resources to the server. This information can be transferred in various formats via HTTP like JSON, HTML, XLT, and Plain \n",
    "    Text, but JSON is the most common language used due to its easy readability by machines and humans.\n",
    "    \n",
    "    SOAP (Simple Object Access Protocol) is an XML-based protocol for accessing web services over HTTP. It is developed as an\n",
    "    intermediate language so that applications built in various programming languages can communicate with each other \n",
    "    effectively. Web services use SOAP for the exchange of XML data between applications. SOAP supports both stateful and \n",
    "    stateless operations. Stateful means that the server keeps the information that it receives from the client across multiple\n",
    "    requests. These requests are chained together so that the server is aware of the previous requests. Examples are bank \n",
    "    transactions, flight bookings, etc. Stateless messaging has enough information about the state of the client so that the \n",
    "    server does not have to bother.\n",
    "    \n",
    "    The Shortcomings of SOAP is:\n",
    "    Slow: SOAP uses XML format that must be parsed to be read. It defines many standards that must be followed while developing\n",
    "    the SOAP applications. So it is slow and consumes more bandwidth and resource."
   ]
  },
  {
   "cell_type": "code",
   "execution_count": null,
   "id": "bf6829c6-76b5-4c19-a385-6d4c2e1abd93",
   "metadata": {},
   "outputs": [],
   "source": [
    "Answer 5:\n",
    "    \n",
    "        REST is a set of guidelines that offers flexible implementation, whereas SOAP is a protocol with specific requirements\n",
    "        like XML messaging. REST APIs are lightweight, making them ideal for newer contexts like the Internet of Things (IoT),\n",
    "        mobile application development, and serverless computing.  "
   ]
  }
 ],
 "metadata": {
  "kernelspec": {
   "display_name": "Python 3 (ipykernel)",
   "language": "python",
   "name": "python3"
  },
  "language_info": {
   "codemirror_mode": {
    "name": "ipython",
    "version": 3
   },
   "file_extension": ".py",
   "mimetype": "text/x-python",
   "name": "python",
   "nbconvert_exporter": "python",
   "pygments_lexer": "ipython3",
   "version": "3.10.8"
  }
 },
 "nbformat": 4,
 "nbformat_minor": 5
}
