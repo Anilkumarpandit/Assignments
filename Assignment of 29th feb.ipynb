{
 "cells": [
  {
   "cell_type": "code",
   "execution_count": null,
   "id": "b0dac594-bb2d-40f6-97f7-bbeddd73d465",
   "metadata": {},
   "outputs": [],
   "source": [
    "1. Answer: Guido van Rossum\n",
    "\n",
    "2. Answer: Python supports Object-oriented programming and structured programming.\n",
    "\n",
    "3. Answer: Yes, Python is a case-sensitive language.\n",
    "\n",
    "4. Answer: The extensions for Python files are- .py, .pyi,.\n",
    "\n",
    "5. Answer: Python is an interpreted language.\n",
    "\n",
    "6. Answer: Indentation is used to define a block of code in Python.\n",
    "\n",
    "7. Answer: Hash character is used to comment the single line in Python.\n",
    "\n",
    "8. Answer: The function sys.version can help us to find the version of Python that we are currently working on.\n",
    "\n",
    "9. Answer: lambda\n",
    "\n",
    "10. Answer: pip stands for \"preferred installer program\".\n",
    "\n",
    "11. Answer: Python Built-in Functions are\n",
    "            print()\n",
    "            type()\n",
    "            input()\n",
    "            abs()\n",
    "            pow()\n",
    "            dir()\n",
    "            sorted()\n",
    "            max()\n",
    "            round()\n",
    "            divmod()\n",
    "            id()\n",
    "            ord()\n",
    "            len()\n",
    "            sum()\n",
    "            help()\n",
    "\n",
    "12. Answer: The maximum possible length of an identifier in Python is 79.\n",
    "\n",
    "13. Answer: Some benefits of using Python are-\n",
    "            It is simple, clean, and fast to write.\n",
    "            Due to easy syntax, it gained popularity.\n",
    "            \n",
    "14. Answer: Memory management in Python involves a private heap containing all Python objects and data structures.\n",
    "            The management of this private heap is ensured internally by the Python memory manager.\n",
    "    \n",
    "15. Answer: Install python from this link https://www.python.org/downloads/\n",
    "Afterthis,install it on your PC. Look for the location where PYTHON has been installed on your PC using tge following command on your command prompt: cmd python.\n",
    "Then go to advanced system settings and add new variable and name it as PYTHON_NAME and paste the copied path.\n",
    "Then look for the path variable, select it's value and select edit\n",
    "Add a semicolon towards the end of the value if it's not present and then type %PYTHON_HOME%\n",
    "\n",
    "16. Answer: Yes, the indenta\n",
    "    "
   ]
  }
 ],
 "metadata": {
  "kernelspec": {
   "display_name": "Python 3 (ipykernel)",
   "language": "python",
   "name": "python3"
  },
  "language_info": {
   "codemirror_mode": {
    "name": "ipython",
    "version": 3
   },
   "file_extension": ".py",
   "mimetype": "text/x-python",
   "name": "python",
   "nbconvert_exporter": "python",
   "pygments_lexer": "ipython3",
   "version": "3.10.8"
  }
 },
 "nbformat": 4,
 "nbformat_minor": 5
}
